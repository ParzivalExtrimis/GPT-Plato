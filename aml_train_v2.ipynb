{
 "cells": [
  {
   "cell_type": "markdown",
   "metadata": {},
   "source": [
    "### Connect to Azure Machine Learning workspace"
   ]
  },
  {
   "cell_type": "code",
   "execution_count": 8,
   "metadata": {},
   "outputs": [
    {
     "name": "stderr",
     "output_type": "stream",
     "text": [
      "Found the config file in: .\\config.json\n"
     ]
    }
   ],
   "source": [
    "from azure.ai.ml import MLClient\n",
    "from azure.identity import DefaultAzureCredential\n",
    "\n",
    "credential = DefaultAzureCredential()\n",
    "client = MLClient.from_config(credential)"
   ]
  },
  {
   "cell_type": "markdown",
   "metadata": {},
   "source": [
    "### Create training script "
   ]
  },
  {
   "cell_type": "code",
   "execution_count": 9,
   "metadata": {},
   "outputs": [],
   "source": [
    "import os\n",
    "\n",
    "train_src_dir = \"./src/\"\n",
    "os.makedirs(train_src_dir, exist_ok=True)"
   ]
  },
  {
   "cell_type": "markdown",
   "metadata": {},
   "source": [
    "### Configure the Command"
   ]
  },
  {
   "cell_type": "code",
   "execution_count": 12,
   "metadata": {},
   "outputs": [],
   "source": [
    "from azure.ai.ml import command, Input, Output, UserIdentityConfiguration\n",
    "from azure.ai.ml import Input\n",
    "from azure.ai.ml.constants import AssetTypes, InputOutputModes\n",
    "\n",
    "identity = UserIdentityConfiguration()\n",
    "registered_model_name = \"plato-gpt-trained-model\"\n",
    "\n",
    "input_path = 'azureml://subscriptions/af9d95ee-d424-470c-8f1a-3540102fef9f/resourcegroups/plato/workspaces/plato-workspace/datastores/workspaceblobstore/paths/sam_harris_dataset/data.txt'\n",
    "input_data_type = AssetTypes.URI_FILE\n",
    "input_mode = InputOutputModes.RO_MOUNT\n",
    "\n",
    "output_path = 'azureml://subscriptions/af9d95ee-d424-470c-8f1a-3540102fef9f/resourcegroups/plato/workspaces/plato-workspace/datastores/workspaceblobstore/paths/azureml/'\n",
    "output_data_type = AssetTypes.URI_FOLDER\n",
    "output_mode = InputOutputModes.RW_MOUNT\n",
    "\n",
    "env = 'azureml:Plato-GPT-env:2'\n",
    "\n",
    "\n",
    "# configure the command job\n",
    "job = command(\n",
    "    inputs=dict(\n",
    "        data=Input(\n",
    "            type=input_data_type,\n",
    "            path=input_path,\n",
    "            mode=input_mode\n",
    "        ),\n",
    "        registered_model_name=registered_model_name, \n",
    "    ),\n",
    "    outputs=dict(\n",
    "        log_out=Output(\n",
    "            type=output_data_type,\n",
    "            path=output_path,\n",
    "            output_mode=output_mode\n",
    "        ),\n",
    "    ),\n",
    "    code=\"./src\",  # location of source code\n",
    "    command=\"python train.py --data ${{inputs.data}} --registered_model_name ${{inputs.registered_model_name}} --out ${{outputs.log_out}}\",\n",
    "    environment=env,\n",
    "    compute='CPU-Cluster',\n",
    "    experiment_name=\"Plato-GPT-training-CPU-Cluster\",\n",
    "    display_name=\"Plato-GPT-training-CPU-Cluster\",\n",
    "    identity=identity\n",
    ")"
   ]
  },
  {
   "cell_type": "code",
   "execution_count": 13,
   "metadata": {},
   "outputs": [
    {
     "data": {
      "text/html": [
       "<table style=\"width:100%\"><tr><th>Experiment</th><th>Name</th><th>Type</th><th>Status</th><th>Details Page</th></tr><tr><td>Plato-GPT-training-CPU-Cluster</td><td>maroon_candle_5pydhtj75k</td><td>command</td><td>Starting</td><td><a href=\"https://ml.azure.com/runs/maroon_candle_5pydhtj75k?wsid=/subscriptions/af9d95ee-d424-470c-8f1a-3540102fef9f/resourcegroups/plato/workspaces/plato-workspace&amp;tid=fa6d8028-c72a-4345-9bfd-b3afb43829c1\" target=\"_blank\" rel=\"noopener\">Link to Azure Machine Learning studio</a></td></tr></table>"
      ],
      "text/plain": [
       "Command({'parameters': {}, 'init': False, 'name': 'maroon_candle_5pydhtj75k', 'type': 'command', 'status': 'Starting', 'log_files': None, 'description': None, 'tags': {}, 'properties': {'mlflow.source.git.repoURL': 'https://github.com/ParzivalExtrimis/GPT-Plato.git', 'mlflow.source.git.branch': 'main', 'mlflow.source.git.commit': '87890e5000b0b55c31ec9666495097f7ff7035e8', 'azureml.git.dirty': 'True', '_azureml.ComputeTargetType': 'amlctrain', 'ContentSnapshotId': '616b2b70-a48c-406c-9631-65ec74d353a6'}, 'print_as_yaml': True, 'id': '/subscriptions/af9d95ee-d424-470c-8f1a-3540102fef9f/resourceGroups/plato/providers/Microsoft.MachineLearningServices/workspaces/plato-workspace/jobs/maroon_candle_5pydhtj75k', 'Resource__source_path': None, 'base_path': 'c:\\\\Users\\\\aryan\\\\Downloads\\\\plato-gpt', 'creation_context': <azure.ai.ml.entities._system_data.SystemData object at 0x000001D7E86A5690>, 'serialize': <msrest.serialization.Serializer object at 0x000001D7EA4D10D0>, 'allowed_keys': {}, 'key_restriction': False, 'logger': <Logger attr_dict (WARNING)>, 'display_name': 'Plato-GPT-training-CPU-Cluster', 'experiment_name': 'Plato-GPT-training-CPU-Cluster', 'compute': 'CPU-Cluster', 'services': {'Tracking': {'endpoint': 'azureml://centralindia.api.azureml.ms/mlflow/v1.0/subscriptions/af9d95ee-d424-470c-8f1a-3540102fef9f/resourceGroups/plato/providers/Microsoft.MachineLearningServices/workspaces/plato-workspace?', 'type': 'Tracking'}, 'Studio': {'endpoint': 'https://ml.azure.com/runs/maroon_candle_5pydhtj75k?wsid=/subscriptions/af9d95ee-d424-470c-8f1a-3540102fef9f/resourcegroups/plato/workspaces/plato-workspace&tid=fa6d8028-c72a-4345-9bfd-b3afb43829c1', 'type': 'Studio'}}, 'comment': None, 'job_inputs': {'data': {'type': 'uri_file', 'path': 'azureml://subscriptions/af9d95ee-d424-470c-8f1a-3540102fef9f/resourcegroups/plato/workspaces/plato-workspace/datastores/workspaceblobstore/paths/sam_harris_dataset/data.txt', 'mode': 'ro_mount'}, 'registered_model_name': 'plato-gpt-trained-model'}, 'job_outputs': {'log_out': {'type': 'uri_folder', 'path': 'azureml://subscriptions/af9d95ee-d424-470c-8f1a-3540102fef9f/resourcegroups/plato/workspaces/plato-workspace/datastores/workspaceblobstore/paths/azureml/', 'mode': 'rw_mount'}, 'default': {'type': 'uri_folder', 'path': 'azureml://datastores/workspaceartifactstore/ExperimentRun/dcid.maroon_candle_5pydhtj75k', 'mode': 'rw_mount'}}, 'inputs': {'data': <azure.ai.ml.entities._job.pipeline._io.base.NodeInput object at 0x000001D7EA4D01D0>, 'registered_model_name': <azure.ai.ml.entities._job.pipeline._io.base.NodeInput object at 0x000001D7EA4D0150>}, 'outputs': {'log_out': <azure.ai.ml.entities._job.pipeline._io.base.NodeOutput object at 0x000001D7EA38BA90>, 'default': <azure.ai.ml.entities._job.pipeline._io.base.NodeOutput object at 0x000001D7EA38A910>}, 'component': CommandComponent({'intellectual_property': None, 'auto_increment_version': True, 'source': 'REMOTE.WORKSPACE.JOB', 'is_anonymous': False, 'auto_delete_setting': None, 'name': 'maroon_candle_5pydhtj75k', 'description': None, 'tags': {}, 'properties': {}, 'print_as_yaml': True, 'id': None, 'Resource__source_path': None, 'base_path': WindowsPath('.'), 'creation_context': <azure.ai.ml.entities._system_data.SystemData object at 0x000001D7E86A5690>, 'serialize': <msrest.serialization.Serializer object at 0x000001D7EA4D2110>, 'command': 'python train.py --data ${{inputs.data}} --registered_model_name ${{inputs.registered_model_name}} --out ${{outputs.log_out}}', 'code': '/subscriptions/af9d95ee-d424-470c-8f1a-3540102fef9f/resourceGroups/plato/providers/Microsoft.MachineLearningServices/workspaces/plato-workspace/codes/ebfefbe4-d0d3-4e14-9d22-b3b653a2f2be/versions/1', 'environment_variables': {}, 'environment': '/subscriptions/af9d95ee-d424-470c-8f1a-3540102fef9f/resourceGroups/plato/providers/Microsoft.MachineLearningServices/workspaces/plato-workspace/environments/Plato-GPT-env/versions/2', 'distribution': None, 'resources': None, 'queue_settings': None, 'version': None, 'latest_version': None, 'schema': None, 'type': 'command', 'display_name': 'Plato-GPT-training-CPU-Cluster', 'is_deterministic': True, 'inputs': {'data': {'type': 'uri_file', 'path': 'azureml://subscriptions/af9d95ee-d424-470c-8f1a-3540102fef9f/resourcegroups/plato/workspaces/plato-workspace/datastores/workspaceblobstore/paths/sam_harris_dataset/data.txt', 'mode': 'ro_mount'}, 'registered_model_name': {'type': 'string', 'default': 'plato-gpt-trained-model'}}, 'outputs': {'log_out': {'type': 'uri_folder', 'path': 'azureml://subscriptions/af9d95ee-d424-470c-8f1a-3540102fef9f/resourcegroups/plato/workspaces/plato-workspace/datastores/workspaceblobstore/paths/azureml/', 'mode': 'rw_mount'}, 'default': {'type': 'uri_folder', 'path': 'azureml://datastores/workspaceartifactstore/ExperimentRun/dcid.maroon_candle_5pydhtj75k', 'mode': 'rw_mount'}}, 'yaml_str': None, 'other_parameter': {'status': 'Starting', 'parameters': {}}, 'additional_includes': [], 'CommandComponent__additional_includes_obj': None}), 'referenced_control_flow_node_instance_id': None, 'kwargs': {'services': {'Tracking': {'endpoint': 'azureml://centralindia.api.azureml.ms/mlflow/v1.0/subscriptions/af9d95ee-d424-470c-8f1a-3540102fef9f/resourceGroups/plato/providers/Microsoft.MachineLearningServices/workspaces/plato-workspace?', 'type': 'Tracking'}, 'Studio': {'endpoint': 'https://ml.azure.com/runs/maroon_candle_5pydhtj75k?wsid=/subscriptions/af9d95ee-d424-470c-8f1a-3540102fef9f/resourcegroups/plato/workspaces/plato-workspace&tid=fa6d8028-c72a-4345-9bfd-b3afb43829c1', 'type': 'Studio'}}, 'status': 'Starting', 'creation_context': <azure.ai.ml.entities._system_data.SystemData object at 0x000001D7E86A5690>}, 'instance_id': '1c79efc7-0a2b-4c62-b4f8-ec356aa48e50', 'source': 'BUILDER', 'validate_required_input_not_provided': True, 'limits': None, 'identity': {'type': 'user_identity'}, 'distribution': None, 'environment_variables': {}, 'environment': 'Plato-GPT-env:2', 'resources': {'instance_count': 1, 'shm_size': '2g'}, 'queue_settings': None, 'swept': False})"
      ]
     },
     "execution_count": 13,
     "metadata": {},
     "output_type": "execute_result"
    }
   ],
   "source": [
    "client.create_or_update(job)"
   ]
  }
 ],
 "metadata": {
  "kernelspec": {
   "display_name": "ai",
   "language": "python",
   "name": "python3"
  },
  "language_info": {
   "codemirror_mode": {
    "name": "ipython",
    "version": 3
   },
   "file_extension": ".py",
   "mimetype": "text/x-python",
   "name": "python",
   "nbconvert_exporter": "python",
   "pygments_lexer": "ipython3",
   "version": "3.11.4"
  },
  "orig_nbformat": 4
 },
 "nbformat": 4,
 "nbformat_minor": 2
}
